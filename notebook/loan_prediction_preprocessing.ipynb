{
 "cells": [
  {
   "cell_type": "code",
   "execution_count": 1,
   "id": "634b80f8-d2e0-4902-a061-4c110f09d6dd",
   "metadata": {},
   "outputs": [
    {
     "data": {
      "text/plain": [
       "'\\nHere are the simplified steps extracted from the code provided:\\n\\n1. Import required libraries.\\n2. Read the loan prediction data from a CSV file.\\n3. Check the first and last few rows of the data.\\n4. Determine the shape of the data.\\n5. Check for missing values in the data.\\n6. Display data types of the variables.\\n7. Fill missing values for categorical variables with the mode.\\n8. Fill missing values for continuous variables with the mean.\\n9. Convert categorical variables to numerical values using a mapping function.\\n10. Normalize the variables to range between 0 to 1.\\n11. Save the pre-processed data to a new CSV file.\\n'"
      ]
     },
     "execution_count": 1,
     "metadata": {},
     "output_type": "execute_result"
    }
   ],
   "source": [
    "'''\n",
    "Here are the simplified steps extracted from the code provided:\n",
    "\n",
    "1. Import required libraries.\n",
    "2. Read the loan prediction data from a CSV file.\n",
    "3. Check the first and last few rows of the data.\n",
    "4. Determine the shape of the data.\n",
    "5. Check for missing values in the data.\n",
    "6. Display data types of the variables.\n",
    "7. Fill missing values for categorical variables with the mode.\n",
    "8. Fill missing values for continuous variables with the mean.\n",
    "9. Convert categorical variables to numerical values using a mapping function.\n",
    "10. Normalize the variables to range between 0 to 1.\n",
    "11. Save the pre-processed data to a new CSV file.\n",
    "'''\n"
   ]
  },
  {
   "cell_type": "code",
   "execution_count": 1,
   "id": "57d2b3a1-4dd3-45b7-8cde-b2c7bf2307d3",
   "metadata": {},
   "outputs": [
    {
     "name": "stdout",
     "output_type": "stream",
     "text": [
      "Version of pandas: 2.1.4\n"
     ]
    }
   ],
   "source": [
    "#Step 1 : Importing required libraries\n",
    "import pandas as pd\n",
    "\n",
    "# check version on pandas\n",
    "print('Version of pandas:', pd.__version__)"
   ]
  },
  {
   "cell_type": "code",
   "execution_count": 2,
   "id": "08efd9c2-48e5-4fdd-b3ec-3124ae017385",
   "metadata": {},
   "outputs": [
    {
     "name": "stdout",
     "output_type": "stream",
     "text": [
      "    Loan_ID Gender Married Dependents     Education Self_Employed  \\\n",
      "0  LP001002   Male      No          0      Graduate            No   \n",
      "1  LP001003   Male     Yes          1      Graduate            No   \n",
      "2  LP001005   Male     Yes          0      Graduate           Yes   \n",
      "3  LP001006   Male     Yes          0  Not Graduate            No   \n",
      "4  LP001008   Male      No          0      Graduate            No   \n",
      "\n",
      "   ApplicantIncome  CoapplicantIncome  LoanAmount  Loan_Amount_Term  \\\n",
      "0             5849                0.0         NaN             360.0   \n",
      "1             4583             1508.0       128.0             360.0   \n",
      "2             3000                0.0        66.0             360.0   \n",
      "3             2583             2358.0       120.0             360.0   \n",
      "4             6000                0.0       141.0             360.0   \n",
      "\n",
      "   Credit_History Property_Area Loan_Status  \n",
      "0             1.0         Urban           Y  \n",
      "1             1.0         Rural           N  \n",
      "2             1.0         Urban           Y  \n",
      "3             1.0         Urban           Y  \n",
      "4             1.0         Urban           Y  \n",
      "      Loan_ID  Gender Married Dependents Education Self_Employed  \\\n",
      "609  LP002978  Female      No          0  Graduate            No   \n",
      "610  LP002979    Male     Yes         3+  Graduate            No   \n",
      "611  LP002983    Male     Yes          1  Graduate            No   \n",
      "612  LP002984    Male     Yes          2  Graduate            No   \n",
      "613  LP002990  Female      No          0  Graduate           Yes   \n",
      "\n",
      "     ApplicantIncome  CoapplicantIncome  LoanAmount  Loan_Amount_Term  \\\n",
      "609             2900                0.0        71.0             360.0   \n",
      "610             4106                0.0        40.0             180.0   \n",
      "611             8072              240.0       253.0             360.0   \n",
      "612             7583                0.0       187.0             360.0   \n",
      "613             4583                0.0       133.0             360.0   \n",
      "\n",
      "     Credit_History Property_Area Loan_Status  \n",
      "609             1.0         Rural           Y  \n",
      "610             1.0         Rural           Y  \n",
      "611             1.0         Urban           Y  \n",
      "612             1.0         Urban           Y  \n",
      "613             0.0     Semiurban           N  \n"
     ]
    }
   ],
   "source": [
    "#Step 2 : Reading the loan prediction data\n",
    "data = pd.read_csv('/Users/paramanandbhat/Downloads/Loan Prediction pre-processing 2/loan_data.csv')\n",
    "\n",
    "\n",
    "#First few rows of data\n",
    "print(data.head())\n",
    "\n",
    "print(data.tail())"
   ]
  },
  {
   "cell_type": "code",
   "execution_count": 3,
   "id": "58a6fc0a-d73d-4f4d-988c-36185c5c5e8d",
   "metadata": {},
   "outputs": [
    {
     "name": "stdout",
     "output_type": "stream",
     "text": [
      "(614, 13)\n"
     ]
    }
   ],
   "source": [
    "\n",
    "# shape of the data\n",
    "data.shape\n",
    "\n",
    "print(data.shape)"
   ]
  },
  {
   "cell_type": "code",
   "execution_count": 4,
   "id": "e4ad7892-ff70-4e3d-9438-e7f6048915b6",
   "metadata": {},
   "outputs": [
    {
     "name": "stdout",
     "output_type": "stream",
     "text": [
      "Loan_ID               0\n",
      "Gender               13\n",
      "Married               3\n",
      "Dependents           15\n",
      "Education             0\n",
      "Self_Employed        32\n",
      "ApplicantIncome       0\n",
      "CoapplicantIncome     0\n",
      "LoanAmount           22\n",
      "Loan_Amount_Term     14\n",
      "Credit_History       50\n",
      "Property_Area         0\n",
      "Loan_Status           0\n",
      "dtype: int64\n"
     ]
    }
   ],
   "source": [
    "# checking missing values in the data\n",
    "data.isnull().sum()\n",
    "\n",
    "print(data.isnull().sum())\n"
   ]
  },
  {
   "cell_type": "code",
   "execution_count": 5,
   "id": "f865e45d-6021-4cdf-a9e9-2adae05b084e",
   "metadata": {},
   "outputs": [
    {
     "name": "stdout",
     "output_type": "stream",
     "text": [
      "Loan_ID               object\n",
      "Gender                object\n",
      "Married               object\n",
      "Dependents            object\n",
      "Education             object\n",
      "Self_Employed         object\n",
      "ApplicantIncome        int64\n",
      "CoapplicantIncome    float64\n",
      "LoanAmount           float64\n",
      "Loan_Amount_Term     float64\n",
      "Credit_History       float64\n",
      "Property_Area         object\n",
      "Loan_Status           object\n",
      "dtype: object\n"
     ]
    }
   ],
   "source": [
    "# Data types of the variables\n",
    "print(data.dtypes)"
   ]
  },
  {
   "cell_type": "code",
   "execution_count": 6,
   "id": "55453d62-b8f7-4c12-9299-6179ed6cd873",
   "metadata": {},
   "outputs": [],
   "source": [
    "#Step 3 : Filling the missing values\n",
    "### Categorical Data: Mode\n",
    "\n",
    "# filling missing values of categorical variables with mode\n",
    "\n",
    "data['Gender'].fillna(data['Gender'].mode()[0], inplace=True)\n",
    "\n",
    "data['Married'].fillna(data['Married'].mode()[0], inplace=True)\n",
    "\n",
    "data['Dependents'].fillna(data['Dependents'].mode()[0], inplace=True)\n",
    "\n",
    "data['Self_Employed'].fillna(data['Self_Employed'].mode()[0], inplace=True)\n",
    "\n",
    "data['Loan_Amount_Term'].fillna(data['Loan_Amount_Term'].mode()[0], inplace=True)\n",
    "\n",
    "data['Credit_History'].fillna(data['Credit_History'].mode()[0], inplace=True)\n"
   ]
  },
  {
   "cell_type": "code",
   "execution_count": 7,
   "id": "6682a960-614b-4d4a-9c7a-b623760d37c7",
   "metadata": {},
   "outputs": [
    {
     "data": {
      "text/plain": [
       "Loan_ID              0\n",
       "Gender               0\n",
       "Married              0\n",
       "Dependents           0\n",
       "Education            0\n",
       "Self_Employed        0\n",
       "ApplicantIncome      0\n",
       "CoapplicantIncome    0\n",
       "LoanAmount           0\n",
       "Loan_Amount_Term     0\n",
       "Credit_History       0\n",
       "Property_Area        0\n",
       "Loan_Status          0\n",
       "dtype: int64"
      ]
     },
     "execution_count": 7,
     "metadata": {},
     "output_type": "execute_result"
    }
   ],
   "source": [
    "#Fill categorical variables with mode\n",
    "\n",
    "### Continuous Data: Mean\n",
    "# filling missing values of continuous variables with mean\n",
    "data['LoanAmount'].fillna(data['LoanAmount'].mean(), inplace=True)\n",
    "\n",
    "#Fill Continuous data with mean\n",
    "# checking missing values after imputation\n",
    "data.isnull().sum()\n"
   ]
  },
  {
   "cell_type": "code",
   "execution_count": null,
   "id": "33964bec-25a4-40bb-b151-fec95c8fbcfe",
   "metadata": {},
   "outputs": [],
   "source": []
  }
 ],
 "metadata": {
  "kernelspec": {
   "display_name": "Python 3 (ipykernel)",
   "language": "python",
   "name": "python3"
  },
  "language_info": {
   "codemirror_mode": {
    "name": "ipython",
    "version": 3
   },
   "file_extension": ".py",
   "mimetype": "text/x-python",
   "name": "python",
   "nbconvert_exporter": "python",
   "pygments_lexer": "ipython3",
   "version": "3.10.13"
  }
 },
 "nbformat": 4,
 "nbformat_minor": 5
}
