{
 "cells": [
  {
   "cell_type": "code",
   "execution_count": 2,
   "id": "d30955cb-834e-424a-b47e-d6a012d71849",
   "metadata": {},
   "outputs": [
    {
     "name": "stdout",
     "output_type": "stream",
     "text": [
      "Version of sklearn: 1.3.2\n"
     ]
    }
   ],
   "source": [
    "## Steps to build a Neural Network using Keras\n",
    "#Load the dataset\n",
    "#Import the required libraries\n",
    "import pandas as pd\n",
    "import numpy as np\n",
    "import sklearn\n",
    "from sklearn.model_selection import train_test_split\n",
    "from sklearn.metrics import accuracy_score\n",
    "import matplotlib.pyplot as plt\n",
    "import tensorflow as tf\n",
    "from tensorflow import keras\n",
    "\n",
    "# check version on sklearn\n",
    "print('Version of sklearn:', sklearn.__version__)\n"
   ]
  },
  {
   "cell_type": "code",
   "execution_count": 3,
   "id": "44c6ecd5-2cfb-4faf-ae00-c7baba0836f4",
   "metadata": {},
   "outputs": [
    {
     "name": "stdout",
     "output_type": "stream",
     "text": [
      "    Loan_ID  Gender  Married  Dependents  Education  Self_Employed  \\\n",
      "0  LP001002     0.0      0.0    0.000000        1.0            0.0   \n",
      "1  LP001003     0.0      1.0    0.333333        1.0            0.0   \n",
      "2  LP001005     0.0      1.0    0.000000        1.0            1.0   \n",
      "3  LP001006     0.0      1.0    0.000000        0.0            0.0   \n",
      "4  LP001008     0.0      0.0    0.000000        1.0            0.0   \n",
      "\n",
      "   ApplicantIncome  CoapplicantIncome  LoanAmount  Loan_Amount_Term  \\\n",
      "0         0.070489           0.000000    0.198860           0.74359   \n",
      "1         0.054830           0.036192    0.172214           0.74359   \n",
      "2         0.035250           0.000000    0.082489           0.74359   \n",
      "3         0.030093           0.056592    0.160637           0.74359   \n",
      "4         0.072356           0.000000    0.191027           0.74359   \n",
      "\n",
      "   Credit_History  Property_Area  Loan_Status  \n",
      "0             1.0            1.0          1.0  \n",
      "1             1.0            0.0          0.0  \n",
      "2             1.0            1.0          1.0  \n",
      "3             1.0            1.0          1.0  \n",
      "4             1.0            1.0          1.0  \n"
     ]
    }
   ],
   "source": [
    "# loading the pre-processed dataset\n",
    "data = pd.read_csv('/Users/paramanandbhat/Downloads/Loan Prediction pre-processing 2/loan_prediction_data.csv')\n",
    "\n",
    "# looking at the first five rows of the dataset\n",
    "data.head()\n",
    "\n",
    "print(data.head())\n"
   ]
  },
  {
   "cell_type": "code",
   "execution_count": 4,
   "id": "5a5dab2e-cb4d-4c7f-95bc-96ed254546e5",
   "metadata": {},
   "outputs": [
    {
     "name": "stdout",
     "output_type": "stream",
     "text": [
      "Loan_ID              0\n",
      "Gender               0\n",
      "Married              0\n",
      "Dependents           0\n",
      "Education            0\n",
      "Self_Employed        0\n",
      "ApplicantIncome      0\n",
      "CoapplicantIncome    0\n",
      "LoanAmount           0\n",
      "Loan_Amount_Term     0\n",
      "Credit_History       0\n",
      "Property_Area        0\n",
      "Loan_Status          0\n",
      "dtype: int64\n",
      "Loan_ID               object\n",
      "Gender               float64\n",
      "Married              float64\n",
      "Dependents           float64\n",
      "Education            float64\n",
      "Self_Employed        float64\n",
      "ApplicantIncome      float64\n",
      "CoapplicantIncome    float64\n",
      "LoanAmount           float64\n",
      "Loan_Amount_Term     float64\n",
      "Credit_History       float64\n",
      "Property_Area        float64\n",
      "Loan_Status          float64\n",
      "dtype: object\n"
     ]
    }
   ],
   "source": [
    "# checking missing values\n",
    "data.isnull().sum()\n",
    "\n",
    "print(data.isnull().sum())\n",
    "\n",
    "# checking the data type\n",
    "print(data.dtypes)\n",
    "\n"
   ]
  },
  {
   "cell_type": "code",
   "execution_count": 5,
   "id": "5f2b822d-a676-4e03-aee2-ef13a99bf72e",
   "metadata": {},
   "outputs": [
    {
     "name": "stdout",
     "output_type": "stream",
     "text": [
      "Dropping loan_id column\n",
      "Gender               float64\n",
      "Married              float64\n",
      "Dependents           float64\n",
      "Education            float64\n",
      "Self_Employed        float64\n",
      "ApplicantIncome      float64\n",
      "CoapplicantIncome    float64\n",
      "LoanAmount           float64\n",
      "Loan_Amount_Term     float64\n",
      "Credit_History       float64\n",
      "Property_Area        float64\n",
      "Loan_Status          float64\n",
      "dtype: object\n",
      "(614, 12)\n"
     ]
    }
   ],
   "source": [
    "# removing the loan_ID since these are just the unique values\n",
    "data = data.drop('Loan_ID', axis=1)\n",
    "\n",
    "print('Dropping loan_id column')\n",
    "print(data.dtypes)\n",
    "\n",
    "# looking at the shape of the data\n",
    "print(data.shape)\n"
   ]
  },
  {
   "cell_type": "code",
   "execution_count": 6,
   "id": "0a9f9297-736b-4ff4-9ed6-86c5744f3928",
   "metadata": {},
   "outputs": [
    {
     "name": "stdout",
     "output_type": "stream",
     "text": [
      "Independent variables (614, 11)\n",
      "Dependent variables (614,)\n"
     ]
    }
   ],
   "source": [
    "# separating the independent and dependent variables\n",
    "# storing all the independent variables as X\n",
    "X = data.drop('Loan_Status', axis=1)\n",
    "\n",
    "# storing the dependent variable as y\n",
    "y = data['Loan_Status']\n",
    "\n",
    "# shape of independent and dependent variables\n",
    "X.shape, y.shape\n",
    "\n",
    "print('Independent variables' , X.shape)\n",
    "print('Dependent variables' , y.shape)\n"
   ]
  },
  {
   "cell_type": "code",
   "execution_count": 7,
   "id": "0f72f1e3-aa5f-45b6-b0da-a2cf165a010a",
   "metadata": {},
   "outputs": [
    {
     "name": "stdout",
     "output_type": "stream",
     "text": [
      "X_train Shape (491, 11)\n",
      "y_train Shape (491,)\n",
      "X_test shape (123, 11)\n",
      "y_test shape (123,)\n"
     ]
    }
   ],
   "source": [
    "#Create training andvalidation set\n",
    "# stratify will make sure that the distribution of classes in train and validation set it similar\n",
    "# random state to regenerate the same train and validation set\n",
    "# test size 0.2 will keep 20% data in validation and remaining 80% in train set\n",
    "\n",
    "X_train,X_test,y_train,y_test = train_test_split(X,y,stratify=data['Loan_Status'],random_state=10,test_size=0.2)\n",
    "\n",
    "# shape of training and validation set\n",
    "(X_train.shape, y_train.shape), (X_test.shape, y_test.shape)\n",
    "\n",
    "#Training sets\n",
    "#Indpenedent vaiable\n",
    "print('X_train Shape',X_train.shape)\n",
    "#Dependent variable\n",
    "print('y_train Shape',y_train.shape)\n",
    "\n",
    "#Validation Sets\n",
    "#Dependent variable\n",
    "print('X_test shape',X_test.shape)\n",
    "print('y_test shape',y_test.shape)\n"
   ]
  },
  {
   "cell_type": "code",
   "execution_count": 8,
   "id": "ae2e3dcd-d4df-4a37-a2ff-0eec7f834a9b",
   "metadata": {},
   "outputs": [
    {
     "name": "stdout",
     "output_type": "stream",
     "text": [
      "2.15.0\n",
      "No of input nuerons (491, 11)\n",
      "no of features 11\n",
      "11\n"
     ]
    }
   ],
   "source": [
    "#Defining the arhitecture of the model\n",
    "# checking the version of keras\n",
    "\n",
    "import tensorflow as tf\n",
    "print(tf.__version__)\n",
    "\n",
    "### a. Create a model\n",
    "\n",
    "# importing the sequential model\n",
    "from keras.models import Sequential\n",
    "\n",
    "### b. Defining different layers\n",
    "# importing different layers from keras\n",
    "from keras.layers import InputLayer, Dense \n",
    "# number of input neurons\n",
    "X_train.shape\n",
    "\n",
    "print('No of input nuerons',X_train.shape)\n",
    "\n",
    "# number of features in the data\n",
    "X_train.shape[1]\n",
    "\n",
    "print('no of features', X_train.shape[1])\n",
    "\n",
    "# defining input neurons\n",
    "input_neurons = X_train.shape[1]\n",
    "\n",
    "print(input_neurons)\n",
    "\n",
    "# number of output neurons\n",
    "\n",
    "# since loan prediction is a binary classification problem, we will have single neuron in the output layer \n",
    "\n",
    "# define number of output neurons\n",
    "output_neurons = 1\n"
   ]
  },
  {
   "cell_type": "code",
   "execution_count": null,
   "id": "9d6beb54-5fa4-4213-9b32-6b1dfa18b898",
   "metadata": {},
   "outputs": [],
   "source": []
  }
 ],
 "metadata": {
  "kernelspec": {
   "display_name": "Python 3 (ipykernel)",
   "language": "python",
   "name": "python3"
  },
  "language_info": {
   "codemirror_mode": {
    "name": "ipython",
    "version": 3
   },
   "file_extension": ".py",
   "mimetype": "text/x-python",
   "name": "python",
   "nbconvert_exporter": "python",
   "pygments_lexer": "ipython3",
   "version": "3.10.13"
  }
 },
 "nbformat": 4,
 "nbformat_minor": 5
}
